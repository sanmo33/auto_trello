{
  "nbformat": 4,
  "nbformat_minor": 0,
  "metadata": {
    "colab": {
      "name": "MyPCA.ipynb",
      "provenance": [],
      "collapsed_sections": [],
      "mount_file_id": "13gOyo94kQxL-njiC5BCnjm1qOfMrfIKz",
      "authorship_tag": "ABX9TyMEh45Y9Oj660pw5K46DorB",
      "include_colab_link": true
    },
    "kernelspec": {
      "display_name": "Python 3",
      "name": "python3"
    },
    "language_info": {
      "name": "python"
    }
  },
  "cells": [
    {
      "cell_type": "markdown",
      "metadata": {
        "id": "view-in-github",
        "colab_type": "text"
      },
      "source": [
        "<a href=\"https://colab.research.google.com/github/sanmo33/auto_trello/blob/master/MyPCA.ipynb\" target=\"_parent\"><img src=\"https://colab.research.google.com/assets/colab-badge.svg\" alt=\"Open In Colab\"/></a>"
      ]
    },
    {
      "cell_type": "code",
      "metadata": {
        "id": "jo47B8RITmqX"
      },
      "source": [
        "from PIL import Image\n",
        "import numpy as np\n",
        "from matplotlib import pylab as plt\n",
        "import pandas as pd\n",
        "import seaborn as sns\n",
        "import sys\n",
        "import cv2\n",
        "import glob\n",
        "from matplotlib.pyplot import imread\n",
        "%matplotlib inline"
      ],
      "execution_count": 65,
      "outputs": []
    },
    {
      "cell_type": "code",
      "metadata": {
        "id": "gtu_kRs_gaW3"
      },
      "source": [
        "clothes = pd.DataFrame([])"
      ],
      "execution_count": 66,
      "outputs": []
    },
    {
      "cell_type": "code",
      "metadata": {
        "id": "BraK5anUoovd"
      },
      "source": [
        "def add_to_clothes(path_name):\n",
        "  clothes = pd.DataFrame([])\n",
        "  for path in glob.glob(path_name+\"/*.png\"):\n",
        "    img = imread(path)\n",
        "    cloth = pd.Series(img.flatten(), name=path[34:])\n",
        "    clothes = clothes.append(cloth)\n",
        "  \n",
        "  return clothes"
      ],
      "execution_count": 67,
      "outputs": []
    },
    {
      "cell_type": "code",
      "metadata": {
        "id": "Usp65Butqwge"
      },
      "source": [
        "path_list = [\"/content/drive/MyDrive/iketeru\", \"/content/drive/MyDrive/puls_j_mens_result\", \"/content/drive/MyDrive/puls_j_ladies_result\", \"/content/drive/MyDrive/uniqlo_U_mens_result\", \"/content/drive/MyDrive/uniqlo_U_ladies_result\", \"/content/drive/MyDrive/zara_men_result\", \"/content/drive/MyDrive/zara_ladies_result\"]"
      ],
      "execution_count": 68,
      "outputs": []
    },
    {
      "cell_type": "code",
      "metadata": {
        "id": "O-35BLCzquq7"
      },
      "source": [
        "path_name_list_digit = []\n",
        "for i in range(len(path_list)):\n",
        "  digit = len(glob.glob(path_list[i]+\"/*png\"))\n",
        "  name = path_list[i].replace('/content/drive/MyDrive/', '')\n",
        "  tmp = [name for i in range(digit)]\n",
        "  path_name_list_digit.extend(tmp)"
      ],
      "execution_count": 69,
      "outputs": []
    },
    {
      "cell_type": "code",
      "metadata": {
        "id": "6zMIJs8ptXtH"
      },
      "source": [
        "for path in path_list:\n",
        "  tmp = add_to_clothes(path)\n",
        "  clothes = pd.concat([clothes, tmp])"
      ],
      "execution_count": 70,
      "outputs": []
    },
    {
      "cell_type": "code",
      "metadata": {
        "colab": {
          "base_uri": "https://localhost:8080/"
        },
        "id": "nIRfuicdtt5a",
        "outputId": "d3c89fc6-be00-4014-9c5c-2dd238c45925"
      },
      "source": [
        "clothes.shape"
      ],
      "execution_count": 71,
      "outputs": [
        {
          "output_type": "execute_result",
          "data": {
            "text/plain": [
              "(207, 262144)"
            ]
          },
          "metadata": {
            "tags": []
          },
          "execution_count": 71
        }
      ]
    },
    {
      "cell_type": "code",
      "metadata": {
        "id": "A1BDGMMHoRQE"
      },
      "source": [
        "#feat_cols = ['pixel' + str(i) for i in range(clothes.shape[1])]"
      ],
      "execution_count": 72,
      "outputs": []
    },
    {
      "cell_type": "code",
      "metadata": {
        "id": "FiHs9kwKodQz"
      },
      "source": [
        "#clothes = pd.DataFrame(clothes, columns = feat_cols)"
      ],
      "execution_count": 73,
      "outputs": []
    },
    {
      "cell_type": "code",
      "metadata": {
        "id": "Uo83aamTp6Bo"
      },
      "source": [
        "y_label = [0] * len(path_name_list_digit)"
      ],
      "execution_count": 74,
      "outputs": []
    },
    {
      "cell_type": "code",
      "metadata": {
        "id": "2yFD87aZZ_oG"
      },
      "source": [
        "from sklearn.preprocessing import StandardScaler\n",
        "from sklearn.decomposition import PCA"
      ],
      "execution_count": 75,
      "outputs": []
    },
    {
      "cell_type": "code",
      "metadata": {
        "id": "bGtwAPB0aX8d"
      },
      "source": [
        "pca_cifar = PCA(n_components=2)\n",
        "principalComponents_cifar = pca_cifar.fit_transform(clothes.iloc[:,:-1])"
      ],
      "execution_count": 76,
      "outputs": []
    },
    {
      "cell_type": "code",
      "metadata": {
        "id": "q5RrqfdxalJV"
      },
      "source": [
        "principal_cifar_Df = pd.DataFrame(data = principalComponents_cifar\n",
        "             , columns = ['principal component 1', 'principal component 2'])"
      ],
      "execution_count": 77,
      "outputs": []
    },
    {
      "cell_type": "code",
      "metadata": {
        "id": "B24uIX26Sx23"
      },
      "source": [
        "principal_cifar_Df['y'] = y_label\n",
        "principal_cifar_Df['y'] = path_name_list_digit"
      ],
      "execution_count": 78,
      "outputs": []
    },
    {
      "cell_type": "code",
      "metadata": {
        "colab": {
          "base_uri": "https://localhost:8080/",
          "height": 197
        },
        "id": "5cdbh3uBm_Rt",
        "outputId": "0f6f3b13-ab6d-457f-ec8c-e6d38859f912"
      },
      "source": [
        "principal_cifar_Df.head()"
      ],
      "execution_count": 79,
      "outputs": [
        {
          "output_type": "execute_result",
          "data": {
            "text/html": [
              "<div>\n",
              "<style scoped>\n",
              "    .dataframe tbody tr th:only-of-type {\n",
              "        vertical-align: middle;\n",
              "    }\n",
              "\n",
              "    .dataframe tbody tr th {\n",
              "        vertical-align: top;\n",
              "    }\n",
              "\n",
              "    .dataframe thead th {\n",
              "        text-align: right;\n",
              "    }\n",
              "</style>\n",
              "<table border=\"1\" class=\"dataframe\">\n",
              "  <thead>\n",
              "    <tr style=\"text-align: right;\">\n",
              "      <th></th>\n",
              "      <th>principal component 1</th>\n",
              "      <th>principal component 2</th>\n",
              "      <th>y</th>\n",
              "    </tr>\n",
              "  </thead>\n",
              "  <tbody>\n",
              "    <tr>\n",
              "      <th>0</th>\n",
              "      <td>63.841434</td>\n",
              "      <td>138.538437</td>\n",
              "      <td>iketeru</td>\n",
              "    </tr>\n",
              "    <tr>\n",
              "      <th>1</th>\n",
              "      <td>118.960915</td>\n",
              "      <td>14.223304</td>\n",
              "      <td>iketeru</td>\n",
              "    </tr>\n",
              "    <tr>\n",
              "      <th>2</th>\n",
              "      <td>-84.819290</td>\n",
              "      <td>15.729535</td>\n",
              "      <td>iketeru</td>\n",
              "    </tr>\n",
              "    <tr>\n",
              "      <th>3</th>\n",
              "      <td>123.995987</td>\n",
              "      <td>77.281754</td>\n",
              "      <td>iketeru</td>\n",
              "    </tr>\n",
              "    <tr>\n",
              "      <th>4</th>\n",
              "      <td>39.075539</td>\n",
              "      <td>99.543846</td>\n",
              "      <td>iketeru</td>\n",
              "    </tr>\n",
              "  </tbody>\n",
              "</table>\n",
              "</div>"
            ],
            "text/plain": [
              "   principal component 1  principal component 2        y\n",
              "0              63.841434             138.538437  iketeru\n",
              "1             118.960915              14.223304  iketeru\n",
              "2             -84.819290              15.729535  iketeru\n",
              "3             123.995987              77.281754  iketeru\n",
              "4              39.075539              99.543846  iketeru"
            ]
          },
          "metadata": {
            "tags": []
          },
          "execution_count": 79
        }
      ]
    },
    {
      "cell_type": "code",
      "metadata": {
        "colab": {
          "base_uri": "https://localhost:8080/",
          "height": 622
        },
        "id": "JSmjQAoha2Dw",
        "outputId": "df18304f-df13-4b8f-8abb-639cb5ad95f7"
      },
      "source": [
        "plt.figure(figsize=(16,10))\n",
        "sns.scatterplot(\n",
        "    x=\"principal component 1\", y=\"principal component 2\",\n",
        "    hue=\"y\",\n",
        "    #palette=sns.color_palette(\"hls\", 10),\n",
        "    data=principal_cifar_Df,\n",
        "    legend=\"full\",\n",
        "    alpha=1\n",
        ")"
      ],
      "execution_count": 80,
      "outputs": [
        {
          "output_type": "execute_result",
          "data": {
            "text/plain": [
              "<matplotlib.axes._subplots.AxesSubplot at 0x7f48da4ddf50>"
            ]
          },
          "metadata": {
            "tags": []
          },
          "execution_count": 80
        },
        {
          "output_type": "display_data",
          "data": {
            "image/png": "[encoded data removed]",
            "text/plain": [
              "<Figure size 1152x720 with 1 Axes>"
            ]
          },
          "metadata": {
            "tags": [],
            "needs_background": "light"
          }
        }
      ]
    },
    {
      "cell_type": "code",
      "metadata": {
        "id": "RBZbnlAFbHNX"
      },
      "source": [
        ""
      ],
      "execution_count": 80,
      "outputs": []
    }
  ]
}
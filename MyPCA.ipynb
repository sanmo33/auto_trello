{
  "nbformat": 4,
  "nbformat_minor": 0,
  "metadata": {
    "colab": {
      "name": "MyPCA.ipynb",
      "provenance": [],
      "collapsed_sections": [],
      "mount_file_id": "13gOyo94kQxL-njiC5BCnjm1qOfMrfIKz",
      "authorship_tag": "ABX9TyM75tbo43UUS+psZBRm+in7",
      "include_colab_link": true
    },
    "kernelspec": {
      "display_name": "Python 3",
      "name": "python3"
    },
    "language_info": {
      "name": "python"
    }
  },
  "cells": [
    {
      "cell_type": "markdown",
      "metadata": {
        "id": "view-in-github",
        "colab_type": "text"
      },
      "source": [
        "<a href=\"https://colab.research.google.com/github/sanmo33/auto_trello/blob/master/MyPCA.ipynb\" target=\"_parent\"><img src=\"https://colab.research.google.com/assets/colab-badge.svg\" alt=\"Open In Colab\"/></a>"
      ]
    },
    {
      "cell_type": "code",
      "metadata": {
        "id": "jo47B8RITmqX"
      },
      "source": [
        "from PIL import Image\n",
        "import numpy as np\n",
        "from matplotlib import pylab as plt\n",
        "import pandas as pd\n",
        "import seaborn as sns\n",
        "import sys\n",
        "import cv2\n",
        "import glob\n",
        "from matplotlib.pyplot import imread\n",
        "%matplotlib inline"
      ],
      "execution_count": 88,
      "outputs": []
    },
    {
      "cell_type": "code",
      "metadata": {
        "id": "osNiV6u35dju"
      },
      "source": [
        "import tqdm"
      ],
      "execution_count": 89,
      "outputs": []
    },
    {
      "cell_type": "code",
      "metadata": {
        "id": "gtu_kRs_gaW3"
      },
      "source": [
        "clothes = pd.DataFrame([])"
      ],
      "execution_count": 90,
      "outputs": []
    },
    {
      "cell_type": "code",
      "metadata": {
        "id": "BraK5anUoovd"
      },
      "source": [
        "def add_to_clothes(path_name):\n",
        "  clothes = pd.DataFrame([])\n",
        "  for path in glob.glob(path_name+\"/*.png\"):\n",
        "    img = imread(path)\n",
        "    cloth = pd.Series(img.flatten(), name=path[34:])\n",
        "    clothes = clothes.append(cloth)\n",
        "  \n",
        "  return clothes"
      ],
      "execution_count": 91,
      "outputs": []
    },
    {
      "cell_type": "code",
      "metadata": {
        "id": "Usp65Butqwge"
      },
      "source": [
        "path_list = [\"/content/drive/MyDrive/iketeru\", \"/content/drive/MyDrive/puls_j_mens_result\", \"/content/drive/MyDrive/puls_j_ladies_result\", \"/content/drive/MyDrive/uniqlo_U_mens_result\", \"/content/drive/MyDrive/uniqlo_U_ladies_result\", \"/content/drive/MyDrive/zara_men_result\", \"/content/drive/MyDrive/zara_ladies_result\"]"
      ],
      "execution_count": 92,
      "outputs": []
    },
    {
      "cell_type": "code",
      "metadata": {
        "id": "O-35BLCzquq7"
      },
      "source": [
        "path_name_list_digit = []\n",
        "for i in range(len(path_list)):\n",
        "  digit = len(glob.glob(path_list[i]+\"/*png\"))\n",
        "  name = path_list[i].replace('/content/drive/MyDrive/', '')\n",
        "  tmp = [name for i in range(digit)]\n",
        "  path_name_list_digit.extend(tmp)"
      ],
      "execution_count": 93,
      "outputs": []
    },
    {
      "cell_type": "code",
      "metadata": {
        "id": "6zMIJs8ptXtH",
        "colab": {
          "base_uri": "https://localhost:8080/"
        },
        "outputId": "7bc07c83-74cb-42bb-801f-f8bc55a2957b"
      },
      "source": [
        "for path in tqdm.tqdm(path_list):\n",
        "  tmp = add_to_clothes(path)\n",
        "  clothes = pd.concat([clothes, tmp])"
      ],
      "execution_count": 94,
      "outputs": [
        {
          "output_type": "stream",
          "text": [
            "100%|██████████| 7/7 [00:04<00:00,  1.45it/s]\n"
          ],
          "name": "stderr"
        }
      ]
    },
    {
      "cell_type": "code",
      "metadata": {
        "colab": {
          "base_uri": "https://localhost:8080/"
        },
        "id": "nIRfuicdtt5a",
        "outputId": "8a709c36-47c4-48f6-c721-fcabe953bc89"
      },
      "source": [
        "clothes.shape"
      ],
      "execution_count": 95,
      "outputs": [
        {
          "output_type": "execute_result",
          "data": {
            "text/plain": [
              "(207, 262144)"
            ]
          },
          "metadata": {
            "tags": []
          },
          "execution_count": 95
        }
      ]
    },
    {
      "cell_type": "code",
      "metadata": {
        "id": "A1BDGMMHoRQE"
      },
      "source": [
        "#feat_cols = ['pixel' + str(i) for i in range(clothes.shape[1])]"
      ],
      "execution_count": 96,
      "outputs": []
    },
    {
      "cell_type": "code",
      "metadata": {
        "id": "FiHs9kwKodQz"
      },
      "source": [
        "#clothes = pd.DataFrame(clothes, columns = feat_cols)"
      ],
      "execution_count": 97,
      "outputs": []
    },
    {
      "cell_type": "code",
      "metadata": {
        "id": "Uo83aamTp6Bo"
      },
      "source": [
        "y_label = [0] * len(path_name_list_digit)"
      ],
      "execution_count": 98,
      "outputs": []
    },
    {
      "cell_type": "code",
      "metadata": {
        "id": "2yFD87aZZ_oG"
      },
      "source": [
        "from sklearn.preprocessing import StandardScaler\n",
        "from sklearn.decomposition import PCA"
      ],
      "execution_count": 99,
      "outputs": []
    },
    {
      "cell_type": "code",
      "metadata": {
        "id": "bGtwAPB0aX8d"
      },
      "source": [
        "pca_cifar = PCA(n_components=2)\n",
        "principalComponents_cifar = pca_cifar.fit_transform(clothes.iloc[:,:-1])"
      ],
      "execution_count": 100,
      "outputs": []
    },
    {
      "cell_type": "code",
      "metadata": {
        "id": "q5RrqfdxalJV"
      },
      "source": [
        "principal_cifar_Df = pd.DataFrame(data = principalComponents_cifar\n",
        "             , columns = ['principal component 1', 'principal component 2'])"
      ],
      "execution_count": 101,
      "outputs": []
    },
    {
      "cell_type": "code",
      "metadata": {
        "id": "B24uIX26Sx23"
      },
      "source": [
        "principal_cifar_Df['y'] = path_name_list_digit"
      ],
      "execution_count": 102,
      "outputs": []
    },
    {
      "cell_type": "code",
      "metadata": {
        "colab": {
          "base_uri": "https://localhost:8080/",
          "height": 197
        },
        "id": "5cdbh3uBm_Rt",
        "outputId": "005b6ae4-3d65-499d-9195-867b310b386a"
      },
      "source": [
        "principal_cifar_Df.head()"
      ],
      "execution_count": 103,
      "outputs": [
        {
          "output_type": "execute_result",
          "data": {
            "text/html": [
              "<div>\n",
              "<style scoped>\n",
              "    .dataframe tbody tr th:only-of-type {\n",
              "        vertical-align: middle;\n",
              "    }\n",
              "\n",
              "    .dataframe tbody tr th {\n",
              "        vertical-align: top;\n",
              "    }\n",
              "\n",
              "    .dataframe thead th {\n",
              "        text-align: right;\n",
              "    }\n",
              "</style>\n",
              "<table border=\"1\" class=\"dataframe\">\n",
              "  <thead>\n",
              "    <tr style=\"text-align: right;\">\n",
              "      <th></th>\n",
              "      <th>principal component 1</th>\n",
              "      <th>principal component 2</th>\n",
              "      <th>y</th>\n",
              "    </tr>\n",
              "  </thead>\n",
              "  <tbody>\n",
              "    <tr>\n",
              "      <th>0</th>\n",
              "      <td>63.841419</td>\n",
              "      <td>138.538544</td>\n",
              "      <td>iketeru</td>\n",
              "    </tr>\n",
              "    <tr>\n",
              "      <th>1</th>\n",
              "      <td>118.960854</td>\n",
              "      <td>14.223367</td>\n",
              "      <td>iketeru</td>\n",
              "    </tr>\n",
              "    <tr>\n",
              "      <th>2</th>\n",
              "      <td>-84.819229</td>\n",
              "      <td>15.729506</td>\n",
              "      <td>iketeru</td>\n",
              "    </tr>\n",
              "    <tr>\n",
              "      <th>3</th>\n",
              "      <td>123.995911</td>\n",
              "      <td>77.281715</td>\n",
              "      <td>iketeru</td>\n",
              "    </tr>\n",
              "    <tr>\n",
              "      <th>4</th>\n",
              "      <td>39.075558</td>\n",
              "      <td>99.543861</td>\n",
              "      <td>iketeru</td>\n",
              "    </tr>\n",
              "  </tbody>\n",
              "</table>\n",
              "</div>"
            ],
            "text/plain": [
              "   principal component 1  principal component 2        y\n",
              "0              63.841419             138.538544  iketeru\n",
              "1             118.960854              14.223367  iketeru\n",
              "2             -84.819229              15.729506  iketeru\n",
              "3             123.995911              77.281715  iketeru\n",
              "4              39.075558              99.543861  iketeru"
            ]
          },
          "metadata": {
            "tags": []
          },
          "execution_count": 103
        }
      ]
    },
    {
      "cell_type": "code",
      "metadata": {
        "colab": {
          "base_uri": "https://localhost:8080/",
          "height": 622
        },
        "id": "JSmjQAoha2Dw",
        "outputId": "47743de1-1868-4dca-a4a0-387b58cd51ec"
      },
      "source": [
        "plt.figure(figsize=(16,10))\n",
        "sns.scatterplot(\n",
        "    x=\"principal component 1\", y=\"principal component 2\",\n",
        "    hue=\"y\",\n",
        "    #palette=sns.color_palette(\"hls\", 10),\n",
        "    data=principal_cifar_Df,\n",
        "    legend=\"full\",\n",
        "    alpha=1\n",
        ")"
      ],
      "execution_count": 104,
      "outputs": [
        {
          "output_type": "execute_result",
          "data": {
            "text/plain": [
              "<matplotlib.axes._subplots.AxesSubplot at 0x7f48d50f2550>"
            ]
          },
          "metadata": {
            "tags": []
          },
          "execution_count": 104
        },
        {
          "output_type": "display_data",
          "data": {
            "image/png": "[encoded data removed]",
            "text/plain": [
              "<Figure size 1152x720 with 1 Axes>"
            ]
          },
          "metadata": {
            "tags": [],
            "needs_background": "light"
          }
        }
      ]
    },
    {
      "cell_type": "code",
      "metadata": {
        "id": "RBZbnlAFbHNX"
      },
      "source": [
        ""
      ],
      "execution_count": 104,
      "outputs": []
    }
  ]
}